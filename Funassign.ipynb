{
 "cells": [
  {
   "cell_type": "markdown",
   "id": "3713c277-c9c2-44ae-bbf1-10156e930143",
   "metadata": {},
   "source": [
    "## 1. What is the difference between a function and a method in Python?"
   ]
  },
  {
   "cell_type": "markdown",
   "id": "7330faa9-dd18-4177-9e6c-90bb494ffdcf",
   "metadata": {},
   "source": [
    "In Python, both functions and methods are used to perform actions and operate on data, but they have some key differences related to their context and usage.\n",
    "\n",
    "### Functions\n",
    "\n",
    "* Definition: A function is a block of reusable code that performs a specific task. Functions can be defined using the def keyword.\n",
    "\n",
    "* Context: Functions are defined at the module level or within another function. They are not associated with any object.\n",
    "\n",
    "* Syntax: A typical function definition looks like this:"
   ]
  },
  {
   "cell_type": "code",
   "execution_count": 1,
   "id": "4140b591-9c9f-479b-a03c-3106f3fdabee",
   "metadata": {},
   "outputs": [],
   "source": [
    "def my_function(param1, param2):\n",
    "    return param1 + param2"
   ]
  },
  {
   "cell_type": "markdown",
   "id": "bdd48d7d-9840-4013-a1bc-0a409009a2d6",
   "metadata": {},
   "source": [
    "* Usage: Functions are called by their name followed by parentheses. They can be called from anywhere in the code (as long as they are in scope)."
   ]
  },
  {
   "cell_type": "code",
   "execution_count": 2,
   "id": "28d46393-8593-4618-a671-9cc2bf06d4ae",
   "metadata": {},
   "outputs": [],
   "source": [
    "result = my_function(5, 10)"
   ]
  },
  {
   "cell_type": "markdown",
   "id": "da73abb6-210b-4cd5-91d2-3c725f3a158f",
   "metadata": {},
   "source": [
    "### Methods\n",
    "\n",
    "* Definition: A method is a function that is associated with an object (usually an instance of a class). Methods operate on the data contained within the object and can modify the object's state.\n",
    "\n",
    "* Context: Methods are defined within a class and are called on instances of that class or the class itself (for class methods).\n",
    "\n",
    "* Syntax: A method is defined similarly to a function but is part of a class definition:"
   ]
  },
  {
   "cell_type": "code",
   "execution_count": 3,
   "id": "f6f5e788-4a7d-494e-8f40-d7792e814c9a",
   "metadata": {},
   "outputs": [],
   "source": [
    "class MyClass:\n",
    "    def my_method(self, param1, param2):\n",
    "        return param1 + param2"
   ]
  },
  {
   "cell_type": "markdown",
   "id": "de558237-e9e6-492e-8c56-2a6f66436756",
   "metadata": {},
   "source": [
    "* Usage: Methods are called on instances of the class (or the class itself for class methods). The self parameter refers to the instance on which the method is called."
   ]
  },
  {
   "cell_type": "code",
   "execution_count": 4,
   "id": "5b54a092-733a-4865-936e-7028a275ddc5",
   "metadata": {},
   "outputs": [],
   "source": [
    "obj = MyClass()\n",
    "result = obj.my_method(5, 10)"
   ]
  },
  {
   "cell_type": "markdown",
   "id": "33a9c5f1-ebc1-49e0-b751-0dca5b67ec26",
   "metadata": {},
   "source": [
    "### Key Differences\n",
    "\n",
    "#### 1. Association:\n",
    "\n",
    "* Function: Not bound to any class or object; it exists independently.\n",
    "\n",
    "* Method: Bound to a class or object; operates within the context of that class or object.\n",
    "\n",
    "#### 2. First Parameter:\n",
    "\n",
    "* Function: No implicit first parameter.\n",
    "\n",
    "* Method: The first parameter is typically self (for instance methods) or cls (for class methods), which refers to the instance or class itself.\n",
    "\n",
    "#### 3. Calling:\n",
    "\n",
    "* Function: Called by name.\n",
    "\n",
    "* Method: Called on an object or class (e.g., obj.method() or Class.method()).\n",
    "\n",
    "In summary, while both functions and methods are used to execute code in Python, methods are specifically tied to objects and classes, making them a key part of object-oriented programming. Functions, on the other hand, are more general and can be used independently of object-oriented structures."
   ]
  },
  {
   "cell_type": "markdown",
   "id": "4cf5042a-cb52-4d27-b820-aa1399b4dd1e",
   "metadata": {},
   "source": [
    "## 2.  Explain the concept of function arguments and parameters in Python. "
   ]
  },
  {
   "cell_type": "markdown",
   "id": "56b126c4-5b1f-49b4-b19b-a2618b0317f6",
   "metadata": {},
   "source": [
    "In Python, function arguments and parameters are fundamental concepts used to pass information into functions and control how they operate. Here's a detailed explanation of each concept:\n",
    "\n",
    "### Parameters\n",
    "\n",
    "* Definition: Parameters are variables listed in a function definition that act as placeholders for the values that will be passed to the function when it is called. They define what kind of inputs the function expects.\n",
    "\n",
    "* Syntax: When defining a function, parameters are specified within the parentheses following the function name.\n",
    "\n",
    "Example:"
   ]
  },
  {
   "cell_type": "code",
   "execution_count": 5,
   "id": "da67cebb-95c2-44cb-a480-33b4a7d3dee8",
   "metadata": {},
   "outputs": [],
   "source": [
    "def greet(name, message):\n",
    "    print(f\"Hello {name}, {message}\")"
   ]
  },
  {
   "cell_type": "markdown",
   "id": "0f60126f-0058-4520-935a-8b030dbbd4cd",
   "metadata": {},
   "source": [
    "In this function greet, name and message are parameters.\n",
    "\n",
    "### Arguments\n",
    "\n",
    "* Definition: Arguments are the actual values or data you pass into a function when you call it. They are assigned to the corresponding parameters in the function definition.\n",
    "\n",
    "* Syntax: When calling a function, you provide arguments in the same order as the parameters in the function definition.\n",
    "\n",
    "Example:"
   ]
  },
  {
   "cell_type": "code",
   "execution_count": 6,
   "id": "971162e9-2e2e-4f11-83b1-c58f35e9d649",
   "metadata": {},
   "outputs": [
    {
     "name": "stdout",
     "output_type": "stream",
     "text": [
      "Hello Vijay, Welcome to the platform!\n"
     ]
    }
   ],
   "source": [
    "greet(\"Vijay\", \"Welcome to the platform!\")"
   ]
  },
  {
   "cell_type": "markdown",
   "id": "f0a51be0-2fb7-4e70-a8e9-a39b5359893f",
   "metadata": {},
   "source": [
    "Here, \"Vijay\" is an argument for the name parameter, and \"Welcome to the platform!\" is an argument for the message parameter.\n",
    "\n",
    "### Types of Arguments\n",
    "\n",
    "Python supports several types of arguments for functions:\n",
    "\n",
    "#### 1. Positional Arguments:\n",
    "\n",
    "* These are the most common type of arguments and are passed in the order that the parameters are defined."
   ]
  },
  {
   "cell_type": "code",
   "execution_count": 8,
   "id": "6efc2d84-9c30-47a5-880e-8edb004ae01c",
   "metadata": {},
   "outputs": [],
   "source": [
    "def add(a, b):\n",
    "    return a + b\n",
    "\n",
    "result = add(5, 3)  # 5 is assigned to a, 3 is assigned to b"
   ]
  },
  {
   "cell_type": "markdown",
   "id": "d0fa051a-ee1b-4725-99b7-72e5e486c490",
   "metadata": {},
   "source": [
    "#### 2. Keyword Arguments:\n",
    "\n",
    "* These arguments are passed using the parameter names, allowing you to specify the values out of order."
   ]
  },
  {
   "cell_type": "code",
   "execution_count": 9,
   "id": "7936c31f-561b-4172-acb4-db7926e060b1",
   "metadata": {},
   "outputs": [
    {
     "name": "stdout",
     "output_type": "stream",
     "text": [
      "My name is Vijay and I am 25 years old.\n"
     ]
    }
   ],
   "source": [
    "def introduce(name, age):\n",
    "    print(f\"My name is {name} and I am {age} years old.\")\n",
    "\n",
    "introduce(age=25, name=\"Vijay\")  # age and name are passed in a different order"
   ]
  },
  {
   "cell_type": "markdown",
   "id": "95658703-7801-46d5-9d78-521e7784e771",
   "metadata": {},
   "source": [
    "#### 3. Default Arguments:\n",
    "\n",
    "* Parameters can have default values, which are used if no argument is provided for those parameters."
   ]
  },
  {
   "cell_type": "code",
   "execution_count": 10,
   "id": "6e88e5e8-f24a-446c-b6c9-e2e4c9e4bcd9",
   "metadata": {},
   "outputs": [
    {
     "name": "stdout",
     "output_type": "stream",
     "text": [
      "Hello Vijay, Welcome!\n"
     ]
    }
   ],
   "source": [
    "def greet(name, message=\"Welcome!\"):\n",
    "    print(f\"Hello {name}, {message}\")\n",
    "\n",
    "greet(\"Vijay\")  # Uses the default message"
   ]
  },
  {
   "cell_type": "markdown",
   "id": "a4de3062-9d64-461b-a0b7-5f591669432b",
   "metadata": {},
   "source": [
    "#### 4. Variable-Length Arguments:\n",
    "\n",
    "* *args: Used to pass a variable number of positional arguments. Inside the function, *args is treated as a tuple."
   ]
  },
  {
   "cell_type": "code",
   "execution_count": 37,
   "id": "f5bd4f1a-dd2a-4daa-9710-847702de0525",
   "metadata": {},
   "outputs": [
    {
     "name": "stdout",
     "output_type": "stream",
     "text": [
      "1\n",
      "2\n",
      "3\n",
      "4\n"
     ]
    }
   ],
   "source": [
    "def print_args(*args):\n",
    "    for arg in args:\n",
    "        print(arg)\n",
    "\n",
    "print_args(1, 2, 3, 4)"
   ]
  },
  {
   "cell_type": "markdown",
   "id": "4a04bab3-3423-4439-850d-cc288a1894eb",
   "metadata": {},
   "source": [
    "* **kwargs: Used to pass a variable number of keyword arguments. Inside the function, **kwargs is treated as a dictionary."
   ]
  },
  {
   "cell_type": "code",
   "execution_count": 38,
   "id": "b2a412b6-010b-4c31-aa87-28686741b9f1",
   "metadata": {},
   "outputs": [
    {
     "name": "stdout",
     "output_type": "stream",
     "text": [
      "name: Vijay\n",
      "age: 25\n"
     ]
    }
   ],
   "source": [
    "def print_kwargs(**kwargs):\n",
    "    for key, value in kwargs.items():\n",
    "        print(f\"{key}: {value}\")\n",
    "\n",
    "print_kwargs(name=\"Vijay\", age=25)"
   ]
  },
  {
   "cell_type": "markdown",
   "id": "85712edf-8632-47a8-818d-be686afcf177",
   "metadata": {},
   "source": [
    "### Example Combining All Concepts\n",
    "\n",
    "Here’s an example function that combines positional arguments, keyword arguments, default arguments, and variable-length arguments:"
   ]
  },
  {
   "cell_type": "code",
   "execution_count": 13,
   "id": "6246cb66-b976-4eb8-9cae-c5608c359145",
   "metadata": {},
   "outputs": [
    {
     "name": "stdout",
     "output_type": "stream",
     "text": [
      "Name: Vijay\n",
      "Age: 25\n",
      "Additional Info:\n",
      "Engineer\n",
      "Likes Python\n",
      "Keyword Info:\n",
      "city: Rewari\n",
      "country: India\n"
     ]
    }
   ],
   "source": [
    "def display_info(name, age=30, *args, **kwargs):\n",
    "    print(f\"Name: {name}\")\n",
    "    print(f\"Age: {age}\")\n",
    "    print(\"Additional Info:\")\n",
    "    for arg in args:\n",
    "        print(arg)\n",
    "    print(\"Keyword Info:\")\n",
    "    for key, value in kwargs.items():\n",
    "        print(f\"{key}: {value}\")\n",
    "\n",
    "display_info(\"Vijay\", 25, \"Engineer\", \"Likes Python\", city=\"Rewari\", country=\"India\")"
   ]
  },
  {
   "cell_type": "markdown",
   "id": "5840fddb-8a2b-4020-9e2d-86c348c8c7ac",
   "metadata": {},
   "source": [
    "### Summary\n",
    "\n",
    "* Parameters are the names listed in function definitions and represent placeholders for the values the function expects.\n",
    "\n",
    "* Arguments are the actual values passed to the function when it is called.\n",
    "\n",
    "* Python allows various ways to pass arguments, including positional, keyword, default, and variable-length arguments, providing flexibility in how functions can be used."
   ]
  },
  {
   "cell_type": "markdown",
   "id": "4e5f2138-8b8c-47a9-a110-0dcc0d979fa3",
   "metadata": {},
   "source": [
    "## 3. What are the different ways to define and call a function in Python?"
   ]
  },
  {
   "cell_type": "markdown",
   "id": "6898ce64-a0b9-4a44-96ac-4e419ea479f6",
   "metadata": {},
   "source": [
    "In Python, you can define and call functions in several ways, depending on the requirements of your code and the flexibility you need. Here’s a comprehensive overview:\n",
    "\n",
    "### 1. Basic Function Definition and Call\n",
    "\n",
    "Definition: You use the def keyword to define a basic function, specifying its name, parameters, and body.\n",
    "\n",
    "Syntax:"
   ]
  },
  {
   "cell_type": "code",
   "execution_count": 14,
   "id": "4ed9e1d0-1ae1-4665-b0b9-5b2c7fa05941",
   "metadata": {},
   "outputs": [],
   "source": [
    "def function_name(parameters):\n",
    "    # Function body\n",
    "    return result"
   ]
  },
  {
   "cell_type": "markdown",
   "id": "84b06b77-bf46-4f23-b09b-118f5e67e1d1",
   "metadata": {},
   "source": [
    "Call: You call the function by using its name followed by parentheses.\n",
    "\n",
    "Example:"
   ]
  },
  {
   "cell_type": "code",
   "execution_count": 39,
   "id": "dc893ea2-1c2d-486d-ae92-6a4816f2107e",
   "metadata": {},
   "outputs": [
    {
     "name": "stdout",
     "output_type": "stream",
     "text": [
      "Hello, Vijay!\n"
     ]
    }
   ],
   "source": [
    "def greet(name):\n",
    "    return f\"Hello, {name}!\"\n",
    "\n",
    "message = greet(\"Vijay\")\n",
    "print(message)"
   ]
  },
  {
   "cell_type": "markdown",
   "id": "6510bfd1-e1b6-407d-9f2b-d1db7ea8fdad",
   "metadata": {},
   "source": [
    "### 2. Functions with Default Parameters\n",
    "\n",
    "You can provide default values for parameters. If no value is provided during the function call, the default is used.\n",
    "\n",
    "Definition:"
   ]
  },
  {
   "cell_type": "code",
   "execution_count": 17,
   "id": "8c13ea75-8155-4d38-9175-04eea88c7302",
   "metadata": {},
   "outputs": [],
   "source": [
    "def greet(name, message=\"Welcome!\"):\n",
    "    return f\"Hello, {name}. {message}\""
   ]
  },
  {
   "cell_type": "markdown",
   "id": "1d3eecb5-4d66-4aae-b884-8794735dee66",
   "metadata": {},
   "source": [
    "Call:"
   ]
  },
  {
   "cell_type": "code",
   "execution_count": 18,
   "id": "7cd4fa24-ed72-4813-83ce-a55cddb66b62",
   "metadata": {},
   "outputs": [
    {
     "name": "stdout",
     "output_type": "stream",
     "text": [
      "Hello, Vijay. Welcome!\n",
      "Hello, Ajay. Good to see you!\n"
     ]
    }
   ],
   "source": [
    "print(greet(\"Vijay\"))  # Uses the default message\n",
    "print(greet(\"Ajay\", \"Good to see you!\"))  # Overrides the default message"
   ]
  },
  {
   "cell_type": "markdown",
   "id": "c641546e-b516-4bc8-817e-cbf70703e605",
   "metadata": {},
   "source": [
    "### 3. Keyword Arguments\n",
    "\n",
    "When calling a function, you can specify arguments by name, allowing you to pass them in any order.\n",
    "\n",
    "Definition:"
   ]
  },
  {
   "cell_type": "code",
   "execution_count": 19,
   "id": "780f12d1-ef7a-42e0-ba79-ccad252a625a",
   "metadata": {},
   "outputs": [],
   "source": [
    "def introduce(name, age):\n",
    "    return f\"My name is {name} and I am {age} years old.\""
   ]
  },
  {
   "cell_type": "markdown",
   "id": "6097fab7-6a9a-48d7-a548-a361dcedbe63",
   "metadata": {},
   "source": [
    "Call:"
   ]
  },
  {
   "cell_type": "code",
   "execution_count": 40,
   "id": "0253898c-e1b0-4d5c-ad42-28af6f26eeb8",
   "metadata": {},
   "outputs": [
    {
     "name": "stdout",
     "output_type": "stream",
     "text": [
      "My name is Vijay and I am 30 years old.\n"
     ]
    }
   ],
   "source": [
    "print(introduce(age=30, name=\"Vijay\"))"
   ]
  },
  {
   "cell_type": "markdown",
   "id": "8f8bed75-a4dc-4eed-8030-60e33f73f2a5",
   "metadata": {},
   "source": [
    "### 4. Variable-Length Positional Arguments (*args)\n",
    "\n",
    "You can define a function that accepts a variable number of positional arguments. These arguments are collected into a tuple.\n",
    "\n",
    "Definition:"
   ]
  },
  {
   "cell_type": "code",
   "execution_count": 21,
   "id": "54868485-a962-4f21-9c9a-cc5c25a93ed5",
   "metadata": {},
   "outputs": [],
   "source": [
    "def print_args(*args):\n",
    "    for arg in args:\n",
    "        print(arg)"
   ]
  },
  {
   "cell_type": "markdown",
   "id": "fe68d605-c6d2-4544-a33f-31410b5dd44f",
   "metadata": {},
   "source": [
    "Call:"
   ]
  },
  {
   "cell_type": "code",
   "execution_count": 41,
   "id": "ca967752-520c-4568-8a43-b931677446bb",
   "metadata": {},
   "outputs": [
    {
     "name": "stdout",
     "output_type": "stream",
     "text": [
      "1\n",
      "2\n",
      "3\n",
      "4\n"
     ]
    }
   ],
   "source": [
    "print_args(1, 2, 3, 4)"
   ]
  },
  {
   "cell_type": "markdown",
   "id": "2e61cb93-42ff-426d-9663-125e0e58adc4",
   "metadata": {},
   "source": [
    "### 5. Variable-Length Keyword Arguments (**kwargs)\n",
    "\n",
    "You can define a function that accepts a variable number of keyword arguments. These arguments are collected into a dictionary.\n",
    "\n",
    "Definition:"
   ]
  },
  {
   "cell_type": "code",
   "execution_count": 23,
   "id": "2fa75c8b-cac0-4752-82ee-6f2cc2cc22ae",
   "metadata": {},
   "outputs": [],
   "source": [
    "def print_kwargs(**kwargs):\n",
    "    for key, value in kwargs.items():\n",
    "        print(f\"{key}: {value}\")"
   ]
  },
  {
   "cell_type": "markdown",
   "id": "282c3bcd-6182-4a72-8d21-acbf51644356",
   "metadata": {},
   "source": [
    "Call:"
   ]
  },
  {
   "cell_type": "code",
   "execution_count": 42,
   "id": "30133025-4e7a-4dfd-8233-edea73c82c66",
   "metadata": {},
   "outputs": [
    {
     "name": "stdout",
     "output_type": "stream",
     "text": [
      "name: Vijay\n",
      "age: 30\n"
     ]
    }
   ],
   "source": [
    "print_kwargs(name=\"Vijay\", age=30)"
   ]
  },
  {
   "cell_type": "markdown",
   "id": "5bbc7143-294c-453d-bc89-6d180c050162",
   "metadata": {},
   "source": [
    "### 6. Lambda Functions\n",
    "\n",
    "Lambda functions are small anonymous functions defined using the lambda keyword. They are useful for simple operations that are used once or passed as arguments.\n",
    "\n",
    "Definition:"
   ]
  },
  {
   "cell_type": "code",
   "execution_count": 26,
   "id": "1ed25633-131c-4faf-8965-040c49522f0b",
   "metadata": {},
   "outputs": [],
   "source": [
    "add = lambda x, y: x + y"
   ]
  },
  {
   "cell_type": "markdown",
   "id": "7f3083b4-9ea3-4599-9a7d-651ee6185ed0",
   "metadata": {},
   "source": [
    "Call:"
   ]
  },
  {
   "cell_type": "code",
   "execution_count": 27,
   "id": "03ad970c-9116-49fd-8d38-7e21e71053c2",
   "metadata": {},
   "outputs": [],
   "source": [
    "result = add(5, 3)  # Output: 8"
   ]
  },
  {
   "cell_type": "markdown",
   "id": "7d2f936a-56b9-40d1-8fc0-8f81e9960b3a",
   "metadata": {},
   "source": [
    "### 7. Functions with Docstrings\n",
    "\n",
    "You can include a docstring in a function to document its purpose and usage. This string appears as the __doc__ attribute of the function.\n",
    "\n",
    "Definition:"
   ]
  },
  {
   "cell_type": "code",
   "execution_count": 28,
   "id": "5f269033-e09d-469b-a37f-bd3c3ad93284",
   "metadata": {},
   "outputs": [],
   "source": [
    "def greet(name):\n",
    "    \"\"\"\n",
    "    Greet a person with their name.\n",
    "    \n",
    "    Parameters:\n",
    "    name (str): The name of the person to greet.\n",
    "\n",
    "    Returns:\n",
    "    str: A greeting message.\n",
    "    \"\"\"\n",
    "    return f\"Hello, {name}!\""
   ]
  },
  {
   "cell_type": "markdown",
   "id": "c8653ccc-5087-4b4e-9bb5-3dd46a9dca68",
   "metadata": {},
   "source": [
    "Call:"
   ]
  },
  {
   "cell_type": "code",
   "execution_count": 29,
   "id": "25914057-d6e7-421e-ad87-8eb7b0fc7152",
   "metadata": {},
   "outputs": [
    {
     "name": "stdout",
     "output_type": "stream",
     "text": [
      "Help on function greet in module __main__:\n",
      "\n",
      "greet(name)\n",
      "\n"
     ]
    }
   ],
   "source": [
    "help(greet)  # Displays the docstring"
   ]
  },
  {
   "cell_type": "markdown",
   "id": "4e5c1639-b8f7-4af1-8329-7c312bc0d198",
   "metadata": {},
   "source": [
    "### 8. Recursive Functions\n",
    "\n",
    "Functions can call themselves, which is useful for solving problems that can be broken down into smaller, similar problems.\n",
    "\n",
    "Definition:"
   ]
  },
  {
   "cell_type": "code",
   "execution_count": 30,
   "id": "79631f78-cbeb-4122-ae2f-4e8db2cb504b",
   "metadata": {},
   "outputs": [],
   "source": [
    "def factorial(n):\n",
    "    if n == 0:\n",
    "        return 1\n",
    "    else:\n",
    "        return n * factorial(n - 1)"
   ]
  },
  {
   "cell_type": "markdown",
   "id": "0667dfe8-1c4b-48f1-8244-97137e9800c7",
   "metadata": {},
   "source": [
    "Call:"
   ]
  },
  {
   "cell_type": "code",
   "execution_count": 49,
   "id": "c74904c6-5e41-4726-932f-20f1c14ef1b6",
   "metadata": {},
   "outputs": [
    {
     "name": "stdout",
     "output_type": "stream",
     "text": [
      "120\n"
     ]
    }
   ],
   "source": [
    "print(factorial(5)) "
   ]
  },
  {
   "cell_type": "markdown",
   "id": "a5e928d8-6236-4818-ae5c-6454c4718f57",
   "metadata": {},
   "source": [
    "### 9. Function as Arguments (Higher-Order Functions)\n",
    "\n",
    "You can pass functions as arguments to other functions, which is useful for callbacks and functional programming techniques.\n",
    "\n",
    "Definition:"
   ]
  },
  {
   "cell_type": "code",
   "execution_count": 51,
   "id": "a0339696-6eb7-4f0a-928b-5ea10129845d",
   "metadata": {},
   "outputs": [],
   "source": [
    "def apply_function(func, value):\n",
    "    return func(value)\n",
    "\n",
    "def square(x):\n",
    "    return x * x\n",
    "\n",
    "result = apply_function(square, 4)  # Output: 16"
   ]
  },
  {
   "cell_type": "markdown",
   "id": "2772e752-0864-47da-b232-5a10171d6614",
   "metadata": {},
   "source": [
    "### Summary\n",
    "\n",
    "* Basic Definition and Call: Standard function definition and invocation.\n",
    "* Default Parameters: Parameters with default values.\n",
    "* Keyword Arguments: Passing arguments by name.\n",
    "* Variable-Length Arguments (*args and **kwargs): Handling a variable number of arguments.\n",
    "* Lambda Functions: Anonymous functions for short operations.\n",
    "* Docstrings: Documentation for functions.\n",
    "* Recursive Functions: Functions that call themselves.\n",
    "* Function as Arguments: Passing functions as arguments to other functions.\n",
    "\n",
    "Each of these methods provides different capabilities and allows you to write more flexible and readable code."
   ]
  },
  {
   "cell_type": "markdown",
   "id": "50ba658b-aae4-4285-952d-bcfc80ef90cb",
   "metadata": {},
   "source": [
    "## 4. What is the purpose of the `return` statement in a Python function? "
   ]
  },
  {
   "cell_type": "markdown",
   "id": "c5d912ae-1411-43d5-a65b-5f2991316965",
   "metadata": {},
   "source": [
    "In Python, the return statement is a crucial component of functions. It serves several important purposes:\n",
    "\n",
    "### 1. Returning a Value\n",
    "\n",
    "The primary purpose of the return statement is to send a result from a function back to the caller. When a function is executed, it can compute a result and use return to pass that result back to the code that called the function.\n",
    "\n",
    "Example:"
   ]
  },
  {
   "cell_type": "code",
   "execution_count": 36,
   "id": "e551d997-3664-47a0-be8f-cf656cf42939",
   "metadata": {},
   "outputs": [
    {
     "name": "stdout",
     "output_type": "stream",
     "text": [
      "8\n"
     ]
    }
   ],
   "source": [
    "def add(a, b):\n",
    "    return a + b\n",
    "\n",
    "result = add(5, 3)\n",
    "print(result)"
   ]
  },
  {
   "cell_type": "markdown",
   "id": "3ca04abc-2f7b-460f-a59e-d2690f599261",
   "metadata": {},
   "source": [
    "In this example, the add function returns the sum of a and b, and the value is assigned to the variable result.\n",
    "\n",
    "### 2. Terminating a Function Early\n",
    "\n",
    "The return statement also terminates the execution of the function immediately, even if it is not at the end of the function. When a return statement is executed, the function exits and returns the specified value.\n",
    "\n",
    "Example:"
   ]
  },
  {
   "cell_type": "code",
   "execution_count": 52,
   "id": "9f2a9228-da16-42ad-8503-77ef81ad7958",
   "metadata": {},
   "outputs": [
    {
     "name": "stdout",
     "output_type": "stream",
     "text": [
      "Negative number\n"
     ]
    }
   ],
   "source": [
    "def check_number(number):\n",
    "    if number < 0:\n",
    "        return \"Negative number\"\n",
    "    return \"Non-negative number\"\n",
    "\n",
    "result = check_number(-5)\n",
    "print(result)"
   ]
  },
  {
   "cell_type": "markdown",
   "id": "00774549-a41d-4071-911a-fbb6b75468a9",
   "metadata": {},
   "source": [
    "Here, if number is negative, the function returns \"Negative number\" and exits before reaching the final return statement.\n",
    "\n",
    "### 3. Returning Multiple Values\n",
    "\n",
    "Python functions can return multiple values as a tuple. This allows you to return more than one piece of information from a function.\n",
    "\n",
    "Example:"
   ]
  },
  {
   "cell_type": "code",
   "execution_count": 54,
   "id": "4ae7a686-4029-428d-bf60-2179b7d7777e",
   "metadata": {},
   "outputs": [
    {
     "name": "stdout",
     "output_type": "stream",
     "text": [
      "3\n",
      "1\n"
     ]
    }
   ],
   "source": [
    "def divide_and_mod(a, b):\n",
    "    return a // b, a % b\n",
    "\n",
    "quotient, remainder = divide_and_mod(10, 3)\n",
    "print(quotient) \n",
    "print(remainder)"
   ]
  },
  {
   "cell_type": "markdown",
   "id": "1256ff05-1e18-4131-9779-f78380fddb9e",
   "metadata": {},
   "source": [
    "In this example, the function returns both the quotient and the remainder of the division.\n",
    "\n",
    "### 4. Returning None\n",
    "\n",
    "If no return statement is present in a function, or if the return statement does not specify a value, the function returns None by default. This is useful when the function performs actions but does not need to return any value.\n",
    "\n",
    "Example:"
   ]
  },
  {
   "cell_type": "code",
   "execution_count": 55,
   "id": "f1c24d9f-aeae-4a5d-ad34-04504661d741",
   "metadata": {},
   "outputs": [
    {
     "name": "stdout",
     "output_type": "stream",
     "text": [
      "Hello, World!\n",
      "None\n"
     ]
    }
   ],
   "source": [
    "def print_message(message):\n",
    "    print(message)\n",
    "\n",
    "result = print_message(\"Hello, World!\")\n",
    "print(result)"
   ]
  },
  {
   "cell_type": "markdown",
   "id": "65a2591d-db0b-4605-adda-e4b29b6265e9",
   "metadata": {},
   "source": [
    "In this case, print_message does not have a return statement, so it implicitly returns None.\n",
    "\n",
    "### 5. Returning Functions\n",
    "\n",
    "In advanced scenarios, functions can return other functions, which is useful for creating function factories or decorators.\n",
    "\n",
    "Example:"
   ]
  },
  {
   "cell_type": "code",
   "execution_count": 56,
   "id": "67e14fe7-17fc-4dcf-ad75-23df44c3da0c",
   "metadata": {},
   "outputs": [
    {
     "name": "stdout",
     "output_type": "stream",
     "text": [
      "10\n"
     ]
    }
   ],
   "source": [
    "def make_multiplier(factor):\n",
    "    def multiplier(number):\n",
    "        return number * factor\n",
    "    return multiplier\n",
    "\n",
    "doubler = make_multiplier(2)\n",
    "print(doubler(5))"
   ]
  },
  {
   "cell_type": "markdown",
   "id": "2c44bb88-1b13-4715-a5a4-9c6b034149a6",
   "metadata": {},
   "source": [
    "Here, make_multiplier returns a function multiplier that multiplies its input by the given factor.\n",
    "\n",
    "### Summary\n",
    "\n",
    "* Returning a Value: Sends a result from a function back to the caller.\n",
    "* Terminating a Function Early: Exits the function immediately, optionally returning a value.\n",
    "* Returning Multiple Values: Allows returning multiple pieces of information as a tuple.\n",
    "* Returning None: Functions without a return statement or with an implicit return return None.\n",
    "* Returning Functions: Enables returning functions from other functions, useful in functional programming.\n",
    "\n",
    "The return statement is essential for controlling the flow of data and results in Python functions, providing flexibility and functionality to your code."
   ]
  },
  {
   "cell_type": "markdown",
   "id": "7d547c42-2fea-43a6-9de8-7727fd8b36be",
   "metadata": {},
   "source": [
    "## 5.  What are iterators in Python and how do they differ from iterables?"
   ]
  },
  {
   "cell_type": "markdown",
   "id": "1dec16d7-baf1-405d-8c73-42873db090b4",
   "metadata": {},
   "source": [
    "In Python, iterators and iterables are concepts related to looping and accessing elements in a sequence, but they serve different roles and have distinct characteristics. Here’s a detailed explanation of each and how they differ:\n",
    "\n",
    "### Iterables\n",
    "\n",
    "Definition: An iterable is an object that can return its elements one at a time, allowing it to be used in a loop or with functions that consume iterables. Iterables include data structures like lists, tuples, dictionaries, sets, and strings.\n",
    "\n",
    "Characteristics:\n",
    "\n",
    "* Implementation: An iterable implements the __iter__() method, which returns an iterator object.\n",
    "\n",
    "* Usage: You can iterate over an iterable using a for loop, or pass it to functions that expect an iterable, such as list(), sum(), or sorted().\n",
    "\n",
    "Example:"
   ]
  },
  {
   "cell_type": "code",
   "execution_count": 57,
   "id": "a32717e0-cdee-4bcf-a726-1d181d8c29ee",
   "metadata": {},
   "outputs": [
    {
     "name": "stdout",
     "output_type": "stream",
     "text": [
      "1\n",
      "2\n",
      "3\n",
      "4\n"
     ]
    }
   ],
   "source": [
    "# Example of an iterable\n",
    "my_list = [1, 2, 3, 4]\n",
    "\n",
    "# Using it in a for loop\n",
    "for item in my_list:\n",
    "    print(item)"
   ]
  },
  {
   "cell_type": "markdown",
   "id": "8ffd29e1-6878-48d5-9b61-7adf6004225c",
   "metadata": {},
   "source": [
    "Here, my_list is an iterable because you can iterate over its elements.\n",
    "\n",
    "### Iterators\n",
    "\n",
    "Definition: An iterator is an object that represents a stream of data and is used to access elements one at a time. It is produced by calling iter() on an iterable. An iterator has two main methods: __iter__() and __next__().\n",
    "\n",
    "Characteristics:\n",
    "\n",
    "* Implementation: An iterator implements two methods:\n",
    "\n",
    "    __iter__(): Returns the iterator object itself (usually self).\n",
    "\n",
    "    __next__(): Returns the next item from the sequence. When there are no more items, it raises the StopIteration exception.\n",
    "\n",
    "* Usage: You can use the next() function to retrieve the next item from an iterator.\n",
    "\n",
    "Example:"
   ]
  },
  {
   "cell_type": "code",
   "execution_count": 59,
   "id": "ee8a8d42-568f-4c75-9ead-85bd71a9c058",
   "metadata": {},
   "outputs": [
    {
     "name": "stdout",
     "output_type": "stream",
     "text": [
      "1\n",
      "2\n"
     ]
    }
   ],
   "source": [
    "# Example of an iterator\n",
    "my_iter = iter([1, 2, 3, 4])\n",
    "\n",
    "# Using next() to iterate\n",
    "print(next(my_iter)) \n",
    "print(next(my_iter))"
   ]
  },
  {
   "cell_type": "markdown",
   "id": "8d268707-8063-40a4-9903-58f51ca10fa5",
   "metadata": {},
   "source": [
    "Here, my_iter is an iterator obtained from the iterable [1, 2, 3, 4].\n",
    "\n",
    "### Key Differences\n",
    "\n",
    "#### 1.Definition:\n",
    "\n",
    "* Iterable: An object that can return an iterator (e.g., a list or string).\n",
    "\n",
    "* Iterator: An object that maintains the state of iteration and fetches elements one by one.\n",
    "\n",
    "#### 2. Methods:\n",
    "\n",
    "* Iterable: Implements __iter__() to return an iterator.\n",
    "\n",
    "* Iterator: Implements both __iter__() (returns self) and __next__() (returns the next item).\n",
    "\n",
    "#### 3. State:\n",
    "\n",
    "* Iterable: Does not maintain its own state of iteration.\n",
    "\n",
    "* Iterator: Maintains its own state to keep track of the current position in the sequence.\n",
    "\n",
    "#### 4. Creation:\n",
    "\n",
    "* Iterable: You can create iterables from data structures like lists, tuples, and dictionaries.\n",
    "\n",
    "* Iterator: Created from an iterable using the iter() function.\n",
    "\n",
    "#### 5. Usage:\n",
    "\n",
    "* Iterable: Can be used in a for loop directly or passed to functions expecting an iterable.\n",
    "\n",
    "* Iterator: Requires explicit calls to next() to retrieve elements and manually handle the StopIteration exception when elements are exhausted.\n",
    "\n",
    "### Example Demonstration\n",
    "\n",
    "Using Iterables and Iterators Together:"
   ]
  },
  {
   "cell_type": "code",
   "execution_count": 60,
   "id": "8263926a-0446-4e0a-a358-75ac3eee7993",
   "metadata": {},
   "outputs": [
    {
     "name": "stdout",
     "output_type": "stream",
     "text": [
      "1\n",
      "2\n",
      "3\n",
      "4\n"
     ]
    }
   ],
   "source": [
    "# Iterable example\n",
    "my_list = [1, 2, 3, 4]\n",
    "\n",
    "# Obtain an iterator from the iterable\n",
    "my_iter = iter(my_list)\n",
    "\n",
    "# Iterate using the iterator\n",
    "while True:\n",
    "    try:\n",
    "        print(next(my_iter))  # Print elements until StopIteration is raised\n",
    "    except StopIteration:\n",
    "        break"
   ]
  },
  {
   "cell_type": "markdown",
   "id": "57eefb3a-0131-459b-b6e6-9ac6da1e0cc1",
   "metadata": {},
   "source": [
    "In this example, my_list is an iterable, and my_iter is an iterator obtained from my_list. The while loop continues until StopIteration is raised, demonstrating how iterators work with next().\n",
    "\n",
    "### Summary\n",
    "\n",
    "* Iterable: An object that can return an iterator. It implements the __iter__() method.\n",
    "\n",
    "* Iterator: An object that represents a sequence of elements and maintains the state of iteration. It implements both __iter__() and __next__() methods.\n",
    "\n",
    "Understanding the distinction between iterables and iterators is crucial for effectively managing data sequences and implementing custom iteration logic in Python."
   ]
  },
  {
   "cell_type": "markdown",
   "id": "565f50f9-6594-44fa-b392-af471a7bbb5e",
   "metadata": {},
   "source": [
    "## 6. Explain the concept of generators in Python and how they are defined."
   ]
  },
  {
   "cell_type": "markdown",
   "id": "6705936b-0ced-470c-a45e-74bbe3fa90b0",
   "metadata": {},
   "source": [
    "Generators in Python are a type of iterable, like lists or tuples, but they are more memory-efficient for certain tasks. They allow you to iterate over a sequence of values without storing the entire sequence in memory at once. This is particularly useful when dealing with large datasets or streams of data.\n",
    "\n",
    "### Key Concepts of Generators\n",
    "\n",
    "* Lazy Evaluation: Generators produce items one at a time and only as needed. They don’t compute the entire sequence up front; instead, they generate items on the fly. This is known as lazy evaluation.\n",
    "\n",
    "* Memory Efficiency: Since generators yield items one by one, they don’t require all the values to be stored in memory simultaneously. This makes them more memory-efficient compared to other data structures that hold all their values in memory.\n",
    "\n",
    "* State Retention: Generators maintain their state between successive calls. When a generator function yields a value, it pauses its execution and saves its state. On the next iteration, it resumes from where it left off."
   ]
  },
  {
   "cell_type": "markdown",
   "id": "e155f8e7-b8f2-4ba0-b6cd-64e9185c9499",
   "metadata": {},
   "source": [
    "### Defining Generators\n",
    "\n",
    "Generators are defined using functions with the yield statement. Here’s a step-by-step explanation of how they work:\n",
    "\n",
    "1. Define a Generator Function: A generator function is defined like a regular function but uses yield to return values one at a time.\n",
    "\n",
    "2. Call the Generator Function: Calling a generator function returns a generator object, not the actual values.\n",
    "\n",
    "3. Iterate Over the Generator: You can iterate over the generator object using a loop or other iterator tools to retrieve values."
   ]
  },
  {
   "cell_type": "markdown",
   "id": "48c175ef-c3d7-4bfe-88f4-53550cea77c1",
   "metadata": {},
   "source": [
    "#### Example\n",
    "Here’s a simple example of a generator function that generates a sequence of numbers:"
   ]
  },
  {
   "cell_type": "code",
   "execution_count": 1,
   "id": "c780090d-697d-40de-a26f-6a216b9cb9fa",
   "metadata": {},
   "outputs": [],
   "source": [
    "def count_up_to(max):\n",
    "    count = 1\n",
    "    while count <= max:\n",
    "        yield count\n",
    "        count += 1"
   ]
  },
  {
   "cell_type": "markdown",
   "id": "b58ad533-8bd3-4b5b-974b-59d7390df0a2",
   "metadata": {},
   "source": [
    "In this example:\n",
    "\n",
    "* The count_up_to function generates numbers from 1 up to the specified max.\n",
    "* The yield statement returns the current value of count and pauses the function’s execution.\n",
    "* When the generator is iterated again, it resumes execution right after the yield statement, continuing from where it left off.\n",
    "\n",
    "### Using the Generator\n",
    "\n",
    "To use the generator, you can iterate over it like this:"
   ]
  },
  {
   "cell_type": "code",
   "execution_count": 2,
   "id": "2d4eb683-06dc-4edb-88d7-d63a0f7043de",
   "metadata": {},
   "outputs": [
    {
     "name": "stdout",
     "output_type": "stream",
     "text": [
      "1\n",
      "2\n",
      "3\n",
      "4\n",
      "5\n"
     ]
    }
   ],
   "source": [
    "for number in count_up_to(5):\n",
    "    print(number)"
   ]
  },
  {
   "cell_type": "markdown",
   "id": "a8175560-732e-4d8b-a586-8d31648eea1f",
   "metadata": {},
   "source": [
    "### Key Points\n",
    "\n",
    "* Generators vs. Regular Functions: Regular functions return a single value and exit, while generator functions use yield to return multiple values over time.\n",
    "\n",
    "* Performance: Generators are useful for performance and memory efficiency, especially when dealing with large datasets or infinite sequences.\n",
    "\n",
    "* Generators vs. Iterators: Generators are a type of iterator. They implement the iterator protocol, meaning they have __iter__() and __next__() methods, but you don’t need to implement these methods manually; the yield statement handles it.\n",
    "\n",
    "Generators provide a powerful way to work with sequences of data without consuming large amounts of memory and are an essential feature in Python for efficient data processing."
   ]
  },
  {
   "cell_type": "markdown",
   "id": "826bd0d5-0217-402a-9098-902d9e6f7a73",
   "metadata": {},
   "source": [
    "## 7. What are the advantages of using generators over regular functions?"
   ]
  },
  {
   "cell_type": "markdown",
   "id": "448cc012-e5f4-4d0b-8d39-50c1ea823760",
   "metadata": {},
   "source": [
    "Using generators over regular functions offers several key advantages, especially when dealing with large datasets or complex sequences of data. Here are the main benefits:\n",
    "\n",
    "### 1. Memory Efficiency\n",
    "\n",
    "* Generators: Generate items one at a time and keep only the current item in memory. This is particularly useful for handling large datasets or streams of data where storing the entire sequence in memory would be impractical.\n",
    "\n",
    "* Regular Functions: Typically return all results at once, which means the entire sequence needs to be held in memory. This can be inefficient and problematic with large or infinite sequences.\n",
    "\n",
    "### 2. Lazy Evaluation\n",
    "\n",
    "* Generators: Evaluate values on-demand. They produce the next value only when requested, which can reduce computation time and resources, especially if the sequence is long or if you don't need all the values.\n",
    "\n",
    "* Regular Functions: Compute and return all values at once, which can lead to wasted computation if only a subset of results is needed.\n",
    "\n",
    "### 3. Handling Infinite Sequences\n",
    "\n",
    "* Generators: Can easily handle infinite sequences because they generate values as needed. You can create an infinite generator that yields values indefinitely until stopped.\n",
    "\n",
    "* Regular Functions: Struggle with infinite sequences because they require computing and storing all results upfront, which is impossible for an infinite sequence.\n",
    "\n",
    "### 4. Improved Performance\n",
    "\n",
    "* Generators: Typically have better performance for iteration over large datasets because they do not need to allocate memory for all results at once. This allows you to start processing data immediately without waiting for the entire dataset to be ready.\n",
    "\n",
    "* Regular Functions: May have performance bottlenecks due to memory overhead and the need to process the entire dataset upfront.\n",
    "\n",
    "### 5. Simpler and More Readable Code\n",
    "\n",
    "* Generators: Allow you to write more concise and readable code for complex iteration logic. The use of yield often simplifies the code compared to manually managing state and iteration.\n",
    "\n",
    "* Regular Functions: Might require more complex code to achieve the same functionality, especially if you need to manage the state of iteration manually.\n",
    "\n",
    "6. State Retention\n",
    "\n",
    "* Generators: Automatically manage the state of iteration between yields. They remember where they left off and continue from that point, which can simplify code when dealing with stateful iterations.\n",
    "\n",
    "* Regular Functions: Typically require manual state management to keep track of the iteration progress, which can lead to more complex and error-prone code.\n",
    "\n",
    "#### Example Comparison\n",
    "\n",
    "Generator Example:"
   ]
  },
  {
   "cell_type": "code",
   "execution_count": 3,
   "id": "fb129654-134c-4935-85d0-8e4b31eb8262",
   "metadata": {},
   "outputs": [],
   "source": [
    "def fibonacci(n):\n",
    "    a, b = 0, 1\n",
    "    for _ in range(n):\n",
    "        yield a\n",
    "        a, b = b, a + b"
   ]
  },
  {
   "cell_type": "markdown",
   "id": "8fedaecf-e506-4dd7-9bb2-4dc141cebe2a",
   "metadata": {},
   "source": [
    "Regular Function Example:"
   ]
  },
  {
   "cell_type": "code",
   "execution_count": 4,
   "id": "b12abc9a-4159-41ad-b9bc-2a774a2a4885",
   "metadata": {},
   "outputs": [],
   "source": [
    "def fibonacci_list(n):\n",
    "    result = []\n",
    "    a, b = 0, 1\n",
    "    for _ in range(n):\n",
    "        result.append(a)\n",
    "        a, b = b, a + b\n",
    "    return result"
   ]
  },
  {
   "cell_type": "markdown",
   "id": "d51dd391-b614-45f9-88fd-dc08fb67b0a3",
   "metadata": {},
   "source": [
    "* Generator: Yields Fibonacci numbers one by one, efficiently handling large n without storing the entire sequence in memory.\n",
    "\n",
    "* Regular Function: Computes the entire Fibonacci sequence and stores it in a list, which requires memory proportional to n.\n",
    "\n",
    "In summary, generators provide a more memory-efficient, performant, and often more readable way to handle large or complex sequences of data compared to regular functions that return results all at once."
   ]
  },
  {
   "cell_type": "markdown",
   "id": "e1fe900c-a3ea-47db-98d2-e420bab8cdd3",
   "metadata": {},
   "source": [
    "## 8.  What is a lambda function in Python and when is it typically used?"
   ]
  },
  {
   "cell_type": "markdown",
   "id": "c3f2fac9-e24b-43e0-af01-d59b520f27a4",
   "metadata": {},
   "source": [
    "A lambda function in Python is a small, anonymous function defined using the lambda keyword. Unlike regular functions defined using def, lambda functions are often used for short, simple operations and are usually written in a single line. They are useful for situations where a full function definition would be unnecessarily verbose.\n",
    "\n",
    "#### Syntax of a Lambda Function\n",
    "\n",
    "The syntax for a lambda function is:"
   ]
  },
  {
   "cell_type": "code",
   "execution_count": 5,
   "id": "2a0c34a8-c77d-46b1-85f5-ade2ac01a9a4",
   "metadata": {},
   "outputs": [
    {
     "data": {
      "text/plain": [
       "<function __main__.<lambda>(arguments)>"
      ]
     },
     "execution_count": 5,
     "metadata": {},
     "output_type": "execute_result"
    }
   ],
   "source": [
    "lambda arguments: expression"
   ]
  },
  {
   "cell_type": "markdown",
   "id": "656cf7cf-eb51-4bc3-8b5e-b3ad4f8a3c49",
   "metadata": {},
   "source": [
    "* lambda: Keyword indicating that this is a lambda function.\n",
    "* arguments: A comma-separated list of input parameters (just like regular function arguments).\n",
    "* expression: A single expression that gets evaluated and returned.\n",
    "\n",
    "#### Characteristics\n",
    "\n",
    "* Anonymous: Lambda functions do not have a name (though they can be assigned to a variable if desired).\n",
    "\n",
    "* Single Expression: They can only contain a single expression. They cannot include statements or multiple expressions.\n",
    "\n",
    "* Return Value: The result of the expression is automatically returned.\n",
    "\n",
    "#### Example\n",
    "\n",
    "Here’s a simple example of a lambda function that adds two numbers:"
   ]
  },
  {
   "cell_type": "code",
   "execution_count": 7,
   "id": "9ef6d8e8-af2e-4d37-b1c8-8c7a334077f5",
   "metadata": {},
   "outputs": [
    {
     "name": "stdout",
     "output_type": "stream",
     "text": [
      "8\n"
     ]
    }
   ],
   "source": [
    "add = lambda x, y: x + y\n",
    "print(add(5, 3)) "
   ]
  },
  {
   "cell_type": "markdown",
   "id": "4bcdb05e-669f-472d-91f5-41759747ce1f",
   "metadata": {},
   "source": [
    "In this example:\n",
    "\n",
    "* lambda x, y: x + y is the lambda function.\n",
    "* add is a variable that holds the lambda function.\n",
    "* Calling add(5, 3) returns the result of x + y, which is 8.\n",
    "\n",
    "### When Lambda Functions Are Typically Used\n",
    "\n",
    "1. Short Functions: Lambda functions are ideal for simple operations that are not complex enough to warrant a full function definition.\n",
    "\n",
    "2. Functional Programming Tools: They are often used as arguments to higher-order functions (functions that take other functions as arguments), such as map(), filter(), and sorted().\n",
    "\n",
    "* map(): Applies a function to all items in an iterable."
   ]
  },
  {
   "cell_type": "code",
   "execution_count": 9,
   "id": "615d0662-721a-4e71-b544-518b4a4e9552",
   "metadata": {},
   "outputs": [
    {
     "name": "stdout",
     "output_type": "stream",
     "text": [
      "[1, 4, 9, 16, 25]\n"
     ]
    }
   ],
   "source": [
    "numbers = [1, 2, 3, 4, 5]\n",
    "squared = map(lambda x: x ** 2, numbers)\n",
    "print(list(squared))"
   ]
  },
  {
   "cell_type": "markdown",
   "id": "e7b8fbe2-e1d2-4219-b71a-a2359c6de7ee",
   "metadata": {},
   "source": [
    "* filter(): Filters items in an iterable based on a function that returns a boolean."
   ]
  },
  {
   "cell_type": "code",
   "execution_count": 11,
   "id": "d03aa632-86fc-4f3e-a86f-28feb4a1dd4e",
   "metadata": {},
   "outputs": [
    {
     "name": "stdout",
     "output_type": "stream",
     "text": [
      "[2, 4]\n"
     ]
    }
   ],
   "source": [
    "numbers = [1, 2, 3, 4, 5]\n",
    "even = filter(lambda x: x % 2 == 0, numbers)\n",
    "print(list(even)) "
   ]
  },
  {
   "cell_type": "markdown",
   "id": "5cd9bc8a-ed9d-41fc-9afe-e22d44ec73c0",
   "metadata": {},
   "source": [
    "* sorted(): Sorts items in an iterable based on a key function."
   ]
  },
  {
   "cell_type": "code",
   "execution_count": 13,
   "id": "e0c7b59e-0237-4c44-8e47-cfeac37d7dec",
   "metadata": {},
   "outputs": [
    {
     "name": "stdout",
     "output_type": "stream",
     "text": [
      "[(4, 1), (1, 2), (2, 3)]\n"
     ]
    }
   ],
   "source": [
    "points = [(2, 3), (1, 2), (4, 1)]\n",
    "sorted_points = sorted(points, key=lambda point: point[1])\n",
    "print(sorted_points)  "
   ]
  },
  {
   "cell_type": "markdown",
   "id": "71536aba-ecef-4dc0-9d3e-51fc53a1794b",
   "metadata": {},
   "source": [
    "3. Short-lived Functions: When you need a function temporarily and it won’t be reused elsewhere in your code.\n",
    "\n",
    "4. Inline Use: Lambda functions can be used inline for quick operations, making the code more concise and readable in cases where a full function definition would be overkill.\n",
    "\n",
    "#### Limitations of Lambda Functions\n",
    "\n",
    "* Single Expression: They can only contain a single expression. You cannot include statements, multiple expressions, or complex logic.\n",
    "\n",
    "* Readability: For more complex functions, using def to define a named function is often clearer and more maintainable.\n",
    "\n",
    "#### Example of a Complex Function\n",
    "\n",
    "For comparison, here’s a more complex function that you wouldn’t typically use as a lambda:"
   ]
  },
  {
   "cell_type": "code",
   "execution_count": 14,
   "id": "3ad6670c-c286-414d-9d95-c10dd03e0b53",
   "metadata": {},
   "outputs": [],
   "source": [
    "def complex_function(x):\n",
    "    if x > 0:\n",
    "        return x * x\n",
    "    else:\n",
    "        return 0"
   ]
  },
  {
   "cell_type": "markdown",
   "id": "d480274f-0913-497f-9077-9e1cf7fbb948",
   "metadata": {},
   "source": [
    "This function has multiple statements and a conditional, which makes it unsuitable for a lambda function.\n",
    "\n",
    "In summary, lambda functions are a powerful feature for writing concise, simple functions that are often used in functional programming contexts and where defining a full function would be unnecessarily verbose."
   ]
  },
  {
   "cell_type": "markdown",
   "id": "11a11e38-a58e-42b5-9992-ccd9806c0130",
   "metadata": {},
   "source": [
    "## 9. Explain the purpose and usage of the `map()` function in Python."
   ]
  },
  {
   "cell_type": "markdown",
   "id": "d28eef77-31a5-4225-b841-35c89a259384",
   "metadata": {},
   "source": [
    "The map() function in Python is a built-in function used for applying a given function to each item in an iterable (such as a list, tuple, or string) and returning an iterator of the results. It’s part of Python’s functional programming toolkit and is useful for transforming data in a concise and readable manner.\n",
    "\n",
    "### Purpose of map()\n",
    "\n",
    "The main purpose of map() is to simplify the process of applying a function to each element of an iterable. This allows you to transform or process each element without having to write explicit loops.\n",
    "\n",
    "### Syntax\n",
    "The syntax of the map() function is:"
   ]
  },
  {
   "cell_type": "raw",
   "id": "ccee8b1d-1775-412b-87c3-a95d6b2bf645",
   "metadata": {},
   "source": [
    "map(function, iterable, ...)"
   ]
  },
  {
   "cell_type": "markdown",
   "id": "44ddd5a3-04f1-4aed-a227-8aec5ec6f720",
   "metadata": {},
   "source": [
    "* function: A function that takes one (or more) arguments and returns a value. This function will be applied to each item of the iterable.\n",
    "\n",
    "* iterable: An iterable (e.g., list, tuple) whose items will be processed by the function.\n",
    "\n",
    "* ...: Additional iterables can be provided if the function takes multiple arguments.\n",
    "\n",
    "#### Usage Examples\n",
    "\n",
    "Here are some examples to illustrate how map() works:\n",
    "\n",
    "Basic Example\n",
    "\n",
    "Suppose you have a list of numbers and you want to square each number:"
   ]
  },
  {
   "cell_type": "code",
   "execution_count": 17,
   "id": "6d5b71ed-fe56-4d3f-a7c7-45c73b18e776",
   "metadata": {},
   "outputs": [
    {
     "name": "stdout",
     "output_type": "stream",
     "text": [
      "[1, 4, 9, 16, 25]\n"
     ]
    }
   ],
   "source": [
    "numbers = [1, 2, 3, 4, 5]\n",
    "squared = map(lambda x: x ** 2, numbers)\n",
    "print(list(squared)) "
   ]
  },
  {
   "cell_type": "markdown",
   "id": "86a2f8c6-7936-4d33-bff3-5ee81e98da21",
   "metadata": {},
   "source": [
    "In this example:\n",
    "\n",
    "* lambda x: x ** 2 is a lambda function that squares its input.\n",
    "* map() applies this lambda function to each item in the numbers list.\n",
    "* list(squared) converts the map object to a list to display the results.\n",
    "\n",
    "With Named Function\n",
    "\n",
    "You can also use a named function instead of a lambda function:"
   ]
  },
  {
   "cell_type": "code",
   "execution_count": 19,
   "id": "00a50bb9-23bf-45bf-b73a-c838dc7b66cb",
   "metadata": {},
   "outputs": [
    {
     "name": "stdout",
     "output_type": "stream",
     "text": [
      "[1, 4, 9, 16, 25]\n"
     ]
    }
   ],
   "source": [
    "def square(x):\n",
    "    return x ** 2\n",
    "\n",
    "numbers = [1, 2, 3, 4, 5]\n",
    "squared = map(square, numbers)\n",
    "print(list(squared))"
   ]
  },
  {
   "cell_type": "markdown",
   "id": "0c0006f2-cc48-41b0-a2bf-70c5f48563b2",
   "metadata": {},
   "source": [
    "Here, square is a named function that performs the same operation.\n",
    "\n",
    "Multiple Iterables\n",
    "\n",
    "If the function takes multiple arguments, you can pass multiple iterables to map():"
   ]
  },
  {
   "cell_type": "code",
   "execution_count": 21,
   "id": "4484e3aa-3087-4011-a38f-39aa6622e1b1",
   "metadata": {},
   "outputs": [
    {
     "name": "stdout",
     "output_type": "stream",
     "text": [
      "[5, 7, 9]\n"
     ]
    }
   ],
   "source": [
    "def add(x, y):\n",
    "    return x + y\n",
    "\n",
    "list1 = [1, 2, 3]\n",
    "list2 = [4, 5, 6]\n",
    "result = map(add, list1, list2)\n",
    "print(list(result)) "
   ]
  },
  {
   "cell_type": "markdown",
   "id": "9de663fa-34c5-4204-9999-c63e3ca0fdb0",
   "metadata": {},
   "source": [
    "In this example:\n",
    "\n",
    "* add is a function that takes two arguments.\n",
    "* map() applies add to corresponding elements of list1 and list2.\n",
    "\n",
    "#### Key Points\n",
    "\n",
    "* Iterator: map() returns an iterator, which means that the transformation is applied lazily. To get a list of results, you need to convert the iterator to a list or iterate over it.\n",
    "\n",
    "* Efficiency: map() is often more efficient than using a loop because it is implemented in C and avoids the overhead of Python’s loops and function calls.\n",
    "\n",
    "* Readability: Using map() with a lambda or named function can make your code more readable by clearly expressing the intention of applying a function to each element of a collection.\n",
    "\n",
    "### Example with String Data"
   ]
  },
  {
   "cell_type": "code",
   "execution_count": 23,
   "id": "ff902013-1b80-4fe9-9a99-4433abc0a075",
   "metadata": {},
   "outputs": [
    {
     "name": "stdout",
     "output_type": "stream",
     "text": [
      "['HELLO', 'WORLD']\n"
     ]
    }
   ],
   "source": [
    "words = [\"hello\", \"world\"]\n",
    "uppercased = map(str.upper, words)\n",
    "print(list(uppercased)) "
   ]
  },
  {
   "cell_type": "markdown",
   "id": "2cc854c3-2673-4737-8749-b874d72b03da",
   "metadata": {},
   "source": [
    "Here, str.upper is used to convert each string in the words list to uppercase.\n",
    "\n",
    "In summary, map() is a powerful tool for applying a function to each element of an iterable in a clean and efficient manner. It helps in writing concise and readable code for data transformations."
   ]
  },
  {
   "cell_type": "markdown",
   "id": "b60e048f-9ac0-41da-a024-d24f1ee979d6",
   "metadata": {},
   "source": [
    "## 10. What is the difference between `map()`, `reduce()`, and `filter()` functions in Python?"
   ]
  },
  {
   "cell_type": "markdown",
   "id": "40323323-cc4a-4ff6-afe6-228bbb333833",
   "metadata": {},
   "source": [
    "The map(), reduce(), and filter() functions in Python are all used for functional programming tasks, but they serve different purposes and operate in distinct ways. Here’s a breakdown of each function and how they differ from one another:\n",
    "\n",
    "#### 1. map()\n",
    "\n",
    "Purpose: Applies a function to every item in an iterable and returns an iterator of the results.\n",
    "\n",
    "#### Syntax:"
   ]
  },
  {
   "cell_type": "raw",
   "id": "1aabe754-4cc3-44f4-8df2-70415540d691",
   "metadata": {},
   "source": [
    "map(function, iterable, ...)"
   ]
  },
  {
   "cell_type": "markdown",
   "id": "f5b52da7-08f2-481b-8b61-1e79055dd3f6",
   "metadata": {},
   "source": [
    "Parameters:\n",
    "\n",
    "* function: A function to apply to each item of the iterable.\n",
    "* iterable: One or more iterables to be processed.\n",
    "\n",
    "Usage:\n",
    "\n",
    "* Transforms or processes each element of an iterable.\n",
    "* Can handle multiple iterables if the function takes multiple arguments.\n",
    "\n",
    "Example:"
   ]
  },
  {
   "cell_type": "code",
   "execution_count": 26,
   "id": "63aecf49-dac2-4b52-a293-99f8c65d9e66",
   "metadata": {},
   "outputs": [
    {
     "name": "stdout",
     "output_type": "stream",
     "text": [
      "[1, 4, 9, 16, 25]\n"
     ]
    }
   ],
   "source": [
    "numbers = [1, 2, 3, 4, 5]\n",
    "squared = map(lambda x: x ** 2, numbers)\n",
    "print(list(squared))"
   ]
  },
  {
   "cell_type": "markdown",
   "id": "bbb9cb5f-4bec-4726-9b1e-ef12a20bfca4",
   "metadata": {},
   "source": [
    "Key Point:\n",
    "\n",
    "map() returns an iterator that produces the transformed values.\n",
    "\n",
    "#### 2. filter()\n",
    "\n",
    "Purpose: Filters items in an iterable based on a function that returns True or False.\n",
    "\n",
    "#### Syntax:"
   ]
  },
  {
   "cell_type": "raw",
   "id": "8a61137c-5df2-4b7f-9350-de47b8d5bbb5",
   "metadata": {},
   "source": [
    "filter(function, iterable)"
   ]
  },
  {
   "cell_type": "markdown",
   "id": "703481a0-213f-485b-8d9c-529e6c1e1f82",
   "metadata": {},
   "source": [
    "Parameters:\n",
    "\n",
    "* function: A function that returns True or False for each item.\n",
    "* iterable: An iterable to be filtered.\n",
    "\n",
    "Usage:\n",
    "\n",
    "* Selects elements from an iterable based on a condition defined in the function.\n",
    "\n",
    "Example:"
   ]
  },
  {
   "cell_type": "code",
   "execution_count": 29,
   "id": "576f8e56-8e45-4c79-9a67-9a581821ef54",
   "metadata": {},
   "outputs": [
    {
     "name": "stdout",
     "output_type": "stream",
     "text": [
      "[2, 4]\n"
     ]
    }
   ],
   "source": [
    "numbers = [1, 2, 3, 4, 5]\n",
    "even_numbers = filter(lambda x: x % 2 == 0, numbers)\n",
    "print(list(even_numbers))"
   ]
  },
  {
   "cell_type": "markdown",
   "id": "1e078e82-4da5-4e94-b8c4-7182695ff6a0",
   "metadata": {},
   "source": [
    "Key Point:\n",
    "\n",
    "filter() returns an iterator that yields only the elements that satisfy the condition.\n",
    "\n",
    "#### 3. reduce()\n",
    "\n",
    "Purpose: Applies a function of two arguments cumulatively to the items of an iterable, from left to right, to reduce the iterable to a single value.\n",
    "\n",
    "#### Syntax:"
   ]
  },
  {
   "cell_type": "raw",
   "id": "f641792b-406e-47c4-b4d0-3eba3b6953fe",
   "metadata": {},
   "source": [
    "from functools import reduce\n",
    "\n",
    "reduce(function, iterable, [initializer])"
   ]
  },
  {
   "cell_type": "markdown",
   "id": "3cacc124-e493-43df-8ead-9534d5f3cb4d",
   "metadata": {},
   "source": [
    "Parameters:\n",
    "\n",
    "* function: A function that takes two arguments and returns a single value.\n",
    "* iterable: An iterable whose items are to be reduced.\n",
    "* initializer (optional): A starting value to which the function is applied.\n",
    "\n",
    "Usage:\n",
    "\n",
    "* Performs a cumulative operation across the elements of an iterable, such as summing all elements or finding a product.\n",
    "\n",
    "Example:"
   ]
  },
  {
   "cell_type": "code",
   "execution_count": 32,
   "id": "66973ec1-8148-4f2e-b3bc-b3c772c9e947",
   "metadata": {},
   "outputs": [
    {
     "name": "stdout",
     "output_type": "stream",
     "text": [
      "15\n"
     ]
    }
   ],
   "source": [
    "from functools import reduce\n",
    "\n",
    "numbers = [1, 2, 3, 4, 5]\n",
    "sum_all = reduce(lambda x, y: x + y, numbers)\n",
    "print(sum_all) "
   ]
  },
  {
   "cell_type": "markdown",
   "id": "6fe2d076-5135-48fe-95d1-814c7582da56",
   "metadata": {},
   "source": [
    "Key Point:\n",
    "\n",
    "* reduce() returns a single value that results from applying the function cumulatively.\n",
    "\n",
    "### Comparison Summary\n",
    "\n",
    "1. map():\n",
    "\n",
    "    * Purpose: Transform each item in an iterable.\n",
    "    * Output: An iterator of transformed values.\n",
    "    * Usage: Useful for applying a function to each element in an iterable.\n",
    "\n",
    "2. filter():\n",
    "\n",
    "    * Purpose: Select items from an iterable based on a condition.\n",
    "    * Output: An iterator of elements that satisfy the condition.\n",
    "    * Usage: Useful for filtering elements that meet a specific criterion.\n",
    "\n",
    "3. reduce():\n",
    "\n",
    "    * Purpose: Reduce an iterable to a single value by applying a function cumulatively.\n",
    "    * Output: A single cumulative result.\n",
    "    * Usage: Useful for aggregating data or performing cumulative calculations.\n",
    "\n",
    "Each of these functions is suited to different types of operations, and they can be used in combination to perform complex data processing tasks efficiently."
   ]
  },
  {
   "cell_type": "markdown",
   "id": "a2aaae3b-9852-4be6-8644-705bfae5aa42",
   "metadata": {},
   "source": [
    "## 11. Using pen & Paper write the internal mechanism for sum operation using  reduce function on this given list:[47,11,42,13]; "
   ]
  },
  {
   "cell_type": "markdown",
   "id": "3aa00d11-5389-4e3a-8284-4179b2ef666e",
   "metadata": {},
   "source": [
    "Let’s break down how the reduce() function performs a sum operation on the list [47, 11, 42, 13] step-by-step.\n"
   ]
  },
  {
   "cell_type": "markdown",
   "id": "58bb58f5-1df9-4032-9cc7-a5ed438aa9a9",
   "metadata": {},
   "source": [
    "### Initial Setup\n",
    "\n",
    "The reduce() function from the functools module is used to apply a binary function cumulatively to the items of an iterable. For the sum operation, the lambda function is defined as:"
   ]
  },
  {
   "cell_type": "code",
   "execution_count": 1,
   "id": "38dc20a5-06c8-4a15-9bad-f6d114764438",
   "metadata": {},
   "outputs": [
    {
     "data": {
      "text/plain": [
       "<function __main__.<lambda>(x, y)>"
      ]
     },
     "execution_count": 1,
     "metadata": {},
     "output_type": "execute_result"
    }
   ],
   "source": [
    "lambda x, y: x + y"
   ]
  },
  {
   "cell_type": "markdown",
   "id": "cc817583-71c8-4c6a-91a7-6770a9be6e01",
   "metadata": {},
   "source": [
    "### Step-by-Step Execution\n",
    "\n",
    "We’ll use the reduce() function to compute the sum of the list [47, 11, 42, 13]. Here’s how it works:\n",
    "\n",
    "#### 1.\tInitial Call:\n",
    "\n",
    "    o\tFunction: lambda x, y: x + y\n",
    "\n",
    "    o\tIterable: [47, 11, 42, 13]\n",
    "\n",
    "    o\tIntermediate Result: To be computed\n",
    "\n",
    "#### 2.\tFirst Iteration:\n",
    "\n",
    "    o\tArguments: x = 47, y = 11\n",
    "\n",
    "    o\tOperation: 47 + 11\n",
    "\n",
    "    o\tResult: 58\n",
    "\n",
    "    o\tNew Accumulator Value: 58\n",
    "\n",
    "    o\tThe list now effectively becomes [58, 42, 13] for the next iteration.\n",
    "\n",
    "#### 3.\tSecond Iteration:\n",
    "\n",
    "    o\tArguments: x = 58, y = 42\n",
    "\n",
    "    o\tOperation: 58 + 42\n",
    "\n",
    "    o\tResult: 100\n",
    "\n",
    "    o\tNew Accumulator Value: 100\n",
    "\n",
    "    o\tThe list now effectively becomes [100, 13] for the next iteration.\n",
    "\n",
    "#### 4.\tThird Iteration:\n",
    "\n",
    "    o\tArguments: x = 100, y = 13\n",
    "\n",
    "    o\tOperation: 100 + 13\n",
    "\n",
    "    o\tResult: 113\n",
    "\n",
    "    o\tNew Accumulator Value: 113\n",
    "\n",
    "    o\tThe list is now empty, and the final result is 113.\n",
    "\n",
    "### Internal Mechanism Summary\n",
    "\n",
    "Here’s a structured view of the internal mechanism:\n",
    "\n",
    "#### 1.\tInitial Step:\n",
    "\n",
    "    o\tInitial List: [47, 11, 42, 13]\n",
    "\n",
    "    o\tAccumulator: The first element (47), which starts the accumulation process.\n",
    "\n",
    "#### 2.\tIteration Steps:\n",
    "\n",
    "    o\tFirst Iteration:\n",
    "   \n",
    "       \tAccumulator: 47\n",
    "   \n",
    "       \tNext Element: 11\n",
    "   \n",
    "       \tOperation: 47 + 11 = 58\n",
    "    \n",
    "    o\tSecond Iteration:\n",
    "   \n",
    "       \tAccumulator: 58\n",
    "   \n",
    "       \tNext Element: 42\n",
    "   \n",
    "       \tOperation: 58 + 42 = 100\n",
    "\n",
    "    o\tThird Iteration:\n",
    "   \n",
    "       \tAccumulator: 100\n",
    "       \n",
    "       \tNext Element: 13\n",
    "   \n",
    "       \tOperation: 100 + 13 = 113\n",
    "\n",
    "#### 3.\tFinal Result:\n",
    "\n",
    "    o\tFinal Accumulator Value: 113\n",
    "\n",
    "    o\tResult: The final sum of the list [47, 11, 42, 13] is 113.\n",
    "\n",
    "### Diagram of the Operation\n",
    "\n",
    "If ywe were to draw this out on paper, it might look something like this:\n",
    "\n",
    "Initial List: [47, 11, 42, 13]\n",
    "\n",
    "Step 1: 47 (accumulator) + 11 = 58\n",
    "\n",
    "List now: [58, 42, 13]\n",
    "\n",
    "Step 2: 58 (accumulator) + 42 = 100\n",
    "\n",
    "List now: [100, 13]\n",
    "\n",
    "Step 3: 100 (accumulator) + 13 = 113\n",
    "\n",
    "List now: [113]\n",
    "\n",
    "Final Result: 113\n",
    "\n",
    "Each step involves taking the accumulator (the result of the previous step) and applying the function (x + y) to it and the next item in the list until all items have been processed. The final value of the accumulator is the result of the reduce() operation.\n"
   ]
  },
  {
   "cell_type": "markdown",
   "id": "fd420f84-22f8-4c42-b689-bbb336072f48",
   "metadata": {},
   "source": [
    "## 1. Write a Python function that takes a list of numbers as input and returns the sum of all even numbers in the list."
   ]
  },
  {
   "cell_type": "markdown",
   "id": "a14e9027-479b-4fba-aaa5-3764ac85f2f1",
   "metadata": {},
   "source": [
    "To create a Python function that takes a list of numbers and returns the sum of all even numbers, you can use the filter() function in combination with a lambda function or a list comprehension. Here’s a simple function that demonstrates this approach:\n",
    "\n",
    "#### Using filter() and lambda"
   ]
  },
  {
   "cell_type": "code",
   "execution_count": 33,
   "id": "e856a25e-d457-4786-b107-4bd1688959d0",
   "metadata": {},
   "outputs": [],
   "source": [
    "def sum_even_numbers(numbers):\n",
    "    # Define a lambda function to check if a number is even\n",
    "    is_even = lambda x: x % 2 == 0\n",
    "    \n",
    "    # Use filter to select only even numbers from the list\n",
    "    even_numbers = filter(is_even, numbers)\n",
    "    \n",
    "    # Use sum() to compute the sum of the filtered even numbers\n",
    "    return sum(even_numbers)"
   ]
  },
  {
   "cell_type": "markdown",
   "id": "dfd00c1d-6fb2-4107-a81c-43359d3eaf73",
   "metadata": {
    "tags": []
   },
   "source": [
    "#### Using List Comprehension\n",
    "\n",
    "Alternatively, you can use a list comprehension to filter even numbers and then compute their sum:"
   ]
  },
  {
   "cell_type": "code",
   "execution_count": 34,
   "id": "678ae2a4-c0c2-4bb7-9b7a-cf20b3a84e7a",
   "metadata": {},
   "outputs": [],
   "source": [
    "def sum_even_numbers(numbers):\n",
    "    # Use a list comprehension to filter and sum even numbers\n",
    "    return sum(x for x in numbers if x % 2 == 0)"
   ]
  },
  {
   "cell_type": "markdown",
   "id": "d04ea46d-8ce7-493d-9ca8-b16f7b9be087",
   "metadata": {},
   "source": [
    "### Explanation\n",
    "\n",
    "1. Lambda Function with filter():\n",
    "\n",
    "* is_even is a lambda function that returns True if a number is even (x % 2 == 0).\n",
    "* filter(is_even, numbers) applies this lambda to each element of the list numbers and returns an iterator with only even numbers.\n",
    "* sum(even_numbers) calculates the sum of the filtered even numbers.\n",
    "\n",
    "2. List Comprehension:\n",
    "\n",
    "* The generator expression x for x in numbers if x % 2 == 0 creates an iterable of even numbers from numbers.\n",
    "* sum() computes the sum of these even numbers directly.\n",
    "\n",
    "#### Example Usage"
   ]
  },
  {
   "cell_type": "code",
   "execution_count": 36,
   "id": "091f0f62-3d16-417a-89ad-8c6e700f5177",
   "metadata": {},
   "outputs": [
    {
     "name": "stdout",
     "output_type": "stream",
     "text": [
      "30\n"
     ]
    }
   ],
   "source": [
    "numbers = [1, 2, 3, 4, 5, 6, 7, 8, 9, 10]\n",
    "print(sum_even_numbers(numbers)) "
   ]
  },
  {
   "cell_type": "markdown",
   "id": "df356f26-8377-42b1-a5e0-0a75695d7cd3",
   "metadata": {},
   "source": [
    "In this example, the function sum_even_numbers calculates the sum of all even numbers in the list [1, 2, 3, 4, 5, 6, 7, 8, 9, 10], which are 2, 4, 6, 8, 10, resulting in 30."
   ]
  },
  {
   "cell_type": "markdown",
   "id": "ccf074d9-be9a-4f7d-9609-5cc630f4f69a",
   "metadata": {},
   "source": [
    "## 2. Create a Python function that accepts a string and returns the reverse of that string."
   ]
  },
  {
   "cell_type": "markdown",
   "id": "81f2b169-e17b-4ec4-9935-1dce3cbc6b2c",
   "metadata": {},
   "source": [
    "Certainly! To reverse a string in Python, you can use slicing. Here's a simple function that accomplishes this:"
   ]
  },
  {
   "cell_type": "code",
   "execution_count": 1,
   "id": "525f4611-aab8-42b2-b460-962541824e51",
   "metadata": {},
   "outputs": [],
   "source": [
    "def reverse_string(s):\n",
    "    return s[::-1]"
   ]
  },
  {
   "cell_type": "markdown",
   "id": "bcfe829a-be34-4545-bbb0-d85a87d94daf",
   "metadata": {},
   "source": [
    "#### Explanation:\n",
    "\n",
    "##### s[::-1] is a slicing operation where:\n",
    "        * The first colon : indicates that we're considering the whole string.\n",
    "        * The second colon : with -1 as the step means we're stepping backwards through the string, effectively reversing it.\n",
    "\n",
    "#### Example Usage:"
   ]
  },
  {
   "cell_type": "code",
   "execution_count": 2,
   "id": "6c752d33-f640-430e-858e-5a6d2bedebcf",
   "metadata": {},
   "outputs": [
    {
     "name": "stdout",
     "output_type": "stream",
     "text": [
      "olleh\n",
      "nohtyP\n"
     ]
    }
   ],
   "source": [
    "print(reverse_string(\"hello\"))  # Output: \"olleh\"\n",
    "print(reverse_string(\"Python\")) # Output: \"nohtyP\""
   ]
  },
  {
   "cell_type": "markdown",
   "id": "44749061-5f22-4fa6-854d-45e1c1aa5e78",
   "metadata": {},
   "source": [
    "This function will work with any string you provide and will return the reversed version of that string."
   ]
  },
  {
   "cell_type": "markdown",
   "id": "8d14bac0-a9bf-4c9d-bcfe-c38814950dc3",
   "metadata": {},
   "source": [
    "## 3. Implement a Python function that takes a list of integers and returns a new list containing the squares of each number."
   ]
  },
  {
   "cell_type": "markdown",
   "id": "53f0a219-20d7-4582-8139-5694fc7ecd0a",
   "metadata": {},
   "source": [
    "Certainly! You can achieve this by using a list comprehension to iterate over each integer in the input list and compute its square. Here’s a Python function that does that:"
   ]
  },
  {
   "cell_type": "code",
   "execution_count": 4,
   "id": "69c72d8f-c372-4dc7-90cf-82c32eba1296",
   "metadata": {},
   "outputs": [],
   "source": [
    "def square_numbers(numbers):\n",
    "    return [x**2 for x in numbers]"
   ]
  },
  {
   "cell_type": "markdown",
   "id": "0b63ac13-95bd-49e2-ad93-5e7afc9dfba9",
   "metadata": {},
   "source": [
    "#### Explanation:\n",
    "\n",
    "* numbers is the input list of integers.\n",
    "* [x**2 for x in numbers] is a list comprehension that iterates over each element x in the list numbers and computes x**2 (the square of x).\n",
    "\n",
    "#### Example Usage:"
   ]
  },
  {
   "cell_type": "code",
   "execution_count": 6,
   "id": "a789c89d-f38c-4c93-92d3-be4e5016f068",
   "metadata": {},
   "outputs": [
    {
     "name": "stdout",
     "output_type": "stream",
     "text": [
      "[1, 4, 9, 16]\n",
      "[25, 36, 49]\n"
     ]
    }
   ],
   "source": [
    "print(square_numbers([1, 2, 3, 4]))\n",
    "print(square_numbers([5, 6, 7])) "
   ]
  },
  {
   "cell_type": "markdown",
   "id": "69b08f0a-520b-425f-9e93-09daa7afcd5d",
   "metadata": {},
   "source": [
    "This function will return a new list where each element is the square of the corresponding element from the input list."
   ]
  },
  {
   "cell_type": "markdown",
   "id": "ae65f869-5f9f-461b-b347-6829369f30fa",
   "metadata": {},
   "source": [
    "## 4.  Write a Python function that checks if a given number is prime or not from 1 to 200."
   ]
  },
  {
   "cell_type": "markdown",
   "id": "662ff555-6e09-40b6-b804-5e4d8068be30",
   "metadata": {},
   "source": [
    "To check if a given number is prime, we need to determine if it is greater than 1 and not divisible by any integer other than 1 and itself. For the range from 1 to 200, we can create a function to check primality and include a check to ensure the number is within this range. Here's how we can do it:"
   ]
  },
  {
   "cell_type": "code",
   "execution_count": 7,
   "id": "0e1f8a2d-4832-4042-b911-ea05eef2119f",
   "metadata": {},
   "outputs": [],
   "source": [
    "def is_prime(n):\n",
    "    if n <= 1 or n > 200:\n",
    "        return False\n",
    "    if n <= 3:\n",
    "        return True\n",
    "    if n % 2 == 0 or n % 3 == 0:\n",
    "        return False\n",
    "    i = 5\n",
    "    while i * i <= n:\n",
    "        if n % i == 0 or n % (i + 2) == 0:\n",
    "            return False\n",
    "        i += 6\n",
    "    return True"
   ]
  },
  {
   "cell_type": "markdown",
   "id": "e3e0df4c-b8fe-46cd-b189-92175406e122",
   "metadata": {},
   "source": [
    "### Explanation:\n",
    "\n",
    "* if n <= 1 or n > 200: This line ensures that the number is within the desired range.\n",
    "* if n <= 3: Handles small prime numbers (2 and 3).\n",
    "* if n % 2 == 0 or n % 3 == 0: Excludes multiples of 2 and 3, which are not primes (except 2 and 3 themselves).\n",
    "* while i * i <= n: This loop checks divisibility up to the square root of n using increments of 6 (i.e., checking divisibility by i and i + 2).\n",
    "\n",
    "### Example Usage:"
   ]
  },
  {
   "cell_type": "code",
   "execution_count": 9,
   "id": "24bb1206-b262-42c7-80bc-3729a27379aa",
   "metadata": {},
   "outputs": [
    {
     "name": "stdout",
     "output_type": "stream",
     "text": [
      "True\n",
      "False\n",
      "True\n",
      "False\n"
     ]
    }
   ],
   "source": [
    "print(is_prime(2))   \n",
    "print(is_prime(4))   \n",
    "print(is_prime(19))\n",
    "print(is_prime(200)) "
   ]
  },
  {
   "cell_type": "markdown",
   "id": "e0cbd8bb-31fa-4b0f-a05c-2bb9932b2cb3",
   "metadata": {},
   "source": [
    "This function will accurately determine if a number between 1 and 200 is prime or not."
   ]
  },
  {
   "cell_type": "markdown",
   "id": "50501bf3-d2ba-45ee-bd5a-2e4caf2688e4",
   "metadata": {},
   "source": [
    "## 5. Create an iterator class in Python that generates the Fibonacci sequence up to a specified number of terms."
   ]
  },
  {
   "cell_type": "markdown",
   "id": "491af200-52fc-4c05-9336-5ca8b29b532d",
   "metadata": {},
   "source": [
    "Certainly! We can create an iterator class in Python that generates the Fibonacci sequence by implementing the iterator protocol, which consists of defining __iter__() and __next__() methods. Here’s a class that generates the Fibonacci sequence up to a specified number of terms:"
   ]
  },
  {
   "cell_type": "code",
   "execution_count": 10,
   "id": "45b1a7ec-9e99-4a76-b50d-4e3275a932c9",
   "metadata": {},
   "outputs": [
    {
     "name": "stdout",
     "output_type": "stream",
     "text": [
      "0\n",
      "1\n",
      "1\n",
      "2\n",
      "3\n",
      "5\n",
      "8\n",
      "13\n",
      "21\n",
      "34\n"
     ]
    }
   ],
   "source": [
    "class FibonacciIterator:\n",
    "    def __init__(self, num_terms):\n",
    "        self.num_terms = num_terms\n",
    "        self.current = 0\n",
    "        self.a, self.b = 0, 1\n",
    "    \n",
    "    def __iter__(self):\n",
    "        return self\n",
    "    \n",
    "    def __next__(self):\n",
    "        if self.current >= self.num_terms:\n",
    "            raise StopIteration\n",
    "        if self.current == 0:\n",
    "            self.current += 1\n",
    "            return 0\n",
    "        elif self.current == 1:\n",
    "            self.current += 1\n",
    "            return 1\n",
    "        else:\n",
    "            fib_number = self.a + self.b\n",
    "            self.a, self.b = self.b, fib_number\n",
    "            self.current += 1\n",
    "            return fib_number\n",
    "\n",
    "# Example usage:\n",
    "fib_iterator = FibonacciIterator(10)\n",
    "for num in fib_iterator:\n",
    "    print(num)"
   ]
  },
  {
   "cell_type": "markdown",
   "id": "fe0bfadc-8bea-4e9c-8bcb-48b9d1de996e",
   "metadata": {},
   "source": [
    "### Explanation:\n",
    "\n",
    "* __init__(self, num_terms) initializes the iterator with the number of terms to generate and sets the initial state of the Fibonacci sequence (a and b as 0 and 1 respectively).\n",
    "* __iter__(self) returns the iterator object itself.\n",
    "* __next__(self) calculates the next Fibonacci number:\n",
    "    * If self.current is greater than or equal to self.num_terms, it raises a StopIteration exception to signal the end of iteration.\n",
    "    * It handles the first two terms of the sequence separately (0 and 1).\n",
    "    * For subsequent terms, it calculates the next Fibonacci number and updates the sequence.\n",
    "\n",
    "### Example Usage:\n",
    "\n",
    "This example creates an iterator for the first 10 Fibonacci numbers and prints each one:"
   ]
  },
  {
   "cell_type": "code",
   "execution_count": 11,
   "id": "871049d4-a0f8-4a10-a635-2fe0e4a7f443",
   "metadata": {},
   "outputs": [
    {
     "name": "stdout",
     "output_type": "stream",
     "text": [
      "0\n",
      "1\n",
      "1\n",
      "2\n",
      "3\n",
      "5\n",
      "8\n",
      "13\n",
      "21\n",
      "34\n"
     ]
    }
   ],
   "source": [
    "fib_iterator = FibonacciIterator(10)\n",
    "for num in fib_iterator:\n",
    "    print(num)"
   ]
  },
  {
   "cell_type": "markdown",
   "id": "421a16e3-f96f-49d8-9324-a482f14525b7",
   "metadata": {},
   "source": [
    "The iterator class provides a clean and efficient way to generate and iterate over the Fibonacci sequence."
   ]
  },
  {
   "cell_type": "markdown",
   "id": "d86d8668-4d93-43d1-a43c-4019c001c448",
   "metadata": {},
   "source": [
    "## 6.  Write a generator function in Python that yields the powers of 2 up to a given exponent."
   ]
  },
  {
   "cell_type": "markdown",
   "id": "912fab44-9a93-4abd-ac61-e24a80eedba4",
   "metadata": {},
   "source": [
    "Certainly! A generator function in Python can be written using the yield keyword, which allows the function to produce a sequence of values lazily, one at a time. Here’s a generator function that yields the powers of 2 up to a specified exponent:"
   ]
  },
  {
   "cell_type": "code",
   "execution_count": 12,
   "id": "d5179439-cb04-4a61-96ee-e0ead7366eea",
   "metadata": {},
   "outputs": [
    {
     "name": "stdout",
     "output_type": "stream",
     "text": [
      "1\n",
      "2\n",
      "4\n",
      "8\n",
      "16\n",
      "32\n"
     ]
    }
   ],
   "source": [
    "def powers_of_two(max_exponent):\n",
    "    for exponent in range(max_exponent + 1):\n",
    "        yield 2 ** exponent\n",
    "\n",
    "# Example usage:\n",
    "for power in powers_of_two(5):\n",
    "    print(power)"
   ]
  },
  {
   "cell_type": "markdown",
   "id": "ca8f6099-df45-47cb-99af-96a2a6597eb7",
   "metadata": {},
   "source": [
    "### Explanation:\n",
    "\n",
    "* max_exponent is the highest exponent for which you want to compute the power of 2.\n",
    "* range(max_exponent + 1) generates numbers from 0 up to max_exponent inclusive.\n",
    "* 2 ** exponent computes 2 raised to the current exponent.\n",
    "* yield produces the computed power of 2 and allows the generator to be resumed to continue yielding the next value in the sequence.\n",
    "\n",
    "### Example Usage:\n",
    "\n",
    "If you call the generator with max_exponent set to 5, it will generate the following sequence of powers of 2:"
   ]
  },
  {
   "cell_type": "code",
   "execution_count": 13,
   "id": "952c113e-013c-470a-9cc2-251980fb145e",
   "metadata": {},
   "outputs": [
    {
     "name": "stdout",
     "output_type": "stream",
     "text": [
      "1\n",
      "2\n",
      "4\n",
      "8\n",
      "16\n",
      "32\n"
     ]
    }
   ],
   "source": [
    "for power in powers_of_two(5):\n",
    "    print(power)"
   ]
  },
  {
   "cell_type": "markdown",
   "id": "70096b56-e3d3-486d-96ca-d5a1e7083302",
   "metadata": {},
   "source": [
    "The generator efficiently produces each power of 2 up to the specified exponent one at a time, making it well-suited for cases where you need to handle a potentially large sequence without storing all values in memory at once."
   ]
  },
  {
   "cell_type": "markdown",
   "id": "c43e7911-c34e-46fa-a2c7-2c559107a311",
   "metadata": {},
   "source": [
    "## 7.  Implement a generator function that reads a file line by line and yields each line as a string."
   ]
  },
  {
   "cell_type": "markdown",
   "id": "fdd165a1-40d9-4969-adf9-c5752a744c9c",
   "metadata": {},
   "source": [
    "Certainly! A generator function that reads a file line by line and yields each line as a string can be quite useful for processing large files efficiently. Here’s how you can implement such a generator:"
   ]
  },
  {
   "cell_type": "code",
   "execution_count": 15,
   "id": "af8d36f1-ae15-4ce2-adbe-e8504c33d53a",
   "metadata": {},
   "outputs": [],
   "source": [
    "def read_lines(file_path):\n",
    "    with open(file_path, 'r') as file:\n",
    "        for line in file:\n",
    "            yield line"
   ]
  },
  {
   "cell_type": "markdown",
   "id": "c43d5ee4-8a50-4845-8be7-bbed18c1a8c3",
   "metadata": {},
   "source": [
    "### Explanation:\n",
    "\n",
    "* open(file_path, 'r') opens the file specified by file_path in read mode.\n",
    "* The with statement ensures that the file is properly closed after its block of code is executed.\n",
    "* for line in file: iterates over each line in the file.\n",
    "* yield line produces each line one at a time, allowing the generator to be used to process lines in a lazy fashion.\n",
    "\n",
    "### Example Usage:\n",
    "\n",
    "Assuming example.txt contains the following lines:"
   ]
  },
  {
   "cell_type": "raw",
   "id": "cf02d5d8-8a4b-4654-a762-7a0c8ff3de81",
   "metadata": {},
   "source": [
    "file_path = 'example.txt'\n",
    "for line in read_lines(file_path):\n",
    "    print(line, end='')"
   ]
  },
  {
   "cell_type": "raw",
   "id": "a96e4609-5567-408d-a47b-7656bbbc0094",
   "metadata": {},
   "source": [
    "Hello, World!\n",
    "This is a test file.\n",
    "It has multiple lines."
   ]
  },
  {
   "cell_type": "markdown",
   "id": "a59b3e9a-25eb-4e08-b1d6-edd4dfeea729",
   "metadata": {},
   "source": [
    "This approach is efficient because it reads and processes one line at a time, which is particularly useful for large files where loading the entire file into memory at once would be impractical."
   ]
  },
  {
   "cell_type": "markdown",
   "id": "1c94e303-a964-4103-bf1b-58d61122e2e2",
   "metadata": {},
   "source": [
    "## 8. Use a lambda function in Python to sort a list of tuples based on the second element of each tuple."
   ]
  },
  {
   "cell_type": "markdown",
   "id": "4272afe7-07ad-4e2e-95eb-4aa7430ffb71",
   "metadata": {},
   "source": [
    "We can use a lambda function in Python to sort a list of tuples based on the second element of each tuple. The sorted() function along with a lambda function can achieve this efficiently.\n",
    "\n",
    "Here’s an example of we you can do it:"
   ]
  },
  {
   "cell_type": "code",
   "execution_count": 21,
   "id": "df84e1df-8e8f-45d1-8736-e93053018b79",
   "metadata": {},
   "outputs": [
    {
     "name": "stdout",
     "output_type": "stream",
     "text": [
      "[(2, 1), (4, 2), (1, 3), (3, 4)]\n"
     ]
    }
   ],
   "source": [
    "# Define a list of tuples\n",
    "list_of_tuples = [(1, 3), (2, 1), (4, 2), (3, 4)]\n",
    "\n",
    "# Sort the list based on the second element of each tuple\n",
    "sorted_list = sorted(list_of_tuples, key=lambda x: x[1])\n",
    "\n",
    "# Print the sorted list\n",
    "print(sorted_list)"
   ]
  },
  {
   "cell_type": "markdown",
   "id": "38438b11-03ad-4f05-a4f6-b8a11d18952e",
   "metadata": {},
   "source": [
    "### Explanation:\n",
    "* sorted() is a built-in function that returns a new list containing all items from the original list, sorted in ascending order.\n",
    "* key=lambda x: x[1] specifies a lambda function that takes a tuple x and returns its second element (x[1]). The sorting is performed based on this value.\n",
    "\n",
    "### Example Output:\n",
    "\n",
    "Given the list [(1, 3), (2, 1), (4, 2), (3, 4)], the output of the above code will be:"
   ]
  },
  {
   "cell_type": "markdown",
   "id": "9821608a-920b-4d17-8025-cd09db4f98b5",
   "metadata": {},
   "source": [
    "This result shows the list sorted in ascending order based on the second element of each tuple."
   ]
  },
  {
   "cell_type": "markdown",
   "id": "12c258e9-98fa-47d0-b6f4-e266debd8e7b",
   "metadata": {},
   "source": [
    "## 9. Write a Python program that uses `map()` to convert a list of temperatures from Celsius to Fahrenheit."
   ]
  },
  {
   "cell_type": "markdown",
   "id": "803b164d-2fa4-42eb-ba26-f78b50c5f882",
   "metadata": {},
   "source": [
    "We can use the map() function in Python to convert a list of temperatures from Celsius to Fahrenheit. The map() function applies a given function to each item in an iterable (like a list) and returns an iterator of the results.\n",
    "\n",
    "Here's a Python program that demonstrates how to do this:"
   ]
  },
  {
   "cell_type": "code",
   "execution_count": 22,
   "id": "6c1c66b8-1db6-4852-aa3c-d29104334cb5",
   "metadata": {},
   "outputs": [
    {
     "name": "stdout",
     "output_type": "stream",
     "text": [
      "[32.0, 68.0, 98.6, 212.0]\n"
     ]
    }
   ],
   "source": [
    "# Define the conversion function from Celsius to Fahrenheit\n",
    "def celsius_to_fahrenheit(celsius):\n",
    "    return (celsius * 9/5) + 32\n",
    "\n",
    "# List of temperatures in Celsius\n",
    "celsius_temperatures = [0, 20, 37, 100]\n",
    "\n",
    "# Use map() to convert Celsius temperatures to Fahrenheit\n",
    "fahrenheit_temperatures = map(celsius_to_fahrenheit, celsius_temperatures)\n",
    "\n",
    "# Convert the map object to a list and print the result\n",
    "fahrenheit_temperatures_list = list(fahrenheit_temperatures)\n",
    "print(fahrenheit_temperatures_list)"
   ]
  },
  {
   "cell_type": "markdown",
   "id": "c9a12ea1-5bbd-4f11-b2b2-4f5fc485dee8",
   "metadata": {},
   "source": [
    "### Explanation:\n",
    "\n",
    "* 1. Conversion Function: The function celsius_to_fahrenheit(celsius) converts a temperature from Celsius to Fahrenheit using the formula \n",
    "\n",
    "Fahrenheit = Celsius × 9/5 + 32\n",
    "\n",
    "* 2. List of Temperatures: celsius_temperatures is a list containing temperatures in Celsius.\n",
    "\n",
    "* 3. Using map(): map(celsius_to_fahrenheit, celsius_temperatures) applies the celsius_to_fahrenheit function to each element in celsius_temperatures.\n",
    "\n",
    "* 4. Convert to List: The result of map() is an iterator, so list(fahrenheit_temperatures) converts it to a list so that it can be easily printed or used further."
   ]
  },
  {
   "cell_type": "markdown",
   "id": "30a5b03d-2fe6-4276-884f-529afbccd4c2",
   "metadata": {},
   "source": [
    "This output represents the temperatures in Fahrenheit corresponding to the input temperatures in Celsius."
   ]
  },
  {
   "cell_type": "markdown",
   "id": "a46dba3d-839d-4290-99d3-ba7c59be6fc5",
   "metadata": {},
   "source": [
    "## 10. Create a Python program that uses `filter()` to remove all the vowels from a given string."
   ]
  },
  {
   "cell_type": "markdown",
   "id": "d4d24de6-7307-406a-a639-f9dae07e64c0",
   "metadata": {},
   "source": [
    "We can use the filter() function in Python to remove all the vowels from a given string. The filter() function applies a filtering function to each character in the string and only includes characters for which the function returns True.\n",
    "\n",
    "Here's a Python program that demonstrates how to use filter() to achieve this:"
   ]
  },
  {
   "cell_type": "code",
   "execution_count": 23,
   "id": "bfc19e29-e421-4604-8035-106261603e85",
   "metadata": {},
   "outputs": [
    {
     "name": "stdout",
     "output_type": "stream",
     "text": [
      "Hll, Wrld!\n"
     ]
    }
   ],
   "source": [
    "def remove_vowels(s):\n",
    "    vowels = 'aeiouAEIOU'\n",
    "    \n",
    "    # Define a function that returns True if the character is not a vowel\n",
    "    def is_not_vowel(char):\n",
    "        return char not in vowels\n",
    "    \n",
    "    # Use filter() to apply the is_not_vowel function to each character in the string\n",
    "    filtered_characters = filter(is_not_vowel, s)\n",
    "    \n",
    "    # Join the filtered characters back into a string\n",
    "    result = ''.join(filtered_characters)\n",
    "    \n",
    "    return result\n",
    "\n",
    "# Example usage\n",
    "input_string = \"Hello, World!\"\n",
    "output_string = remove_vowels(input_string)\n",
    "print(output_string)"
   ]
  },
  {
   "cell_type": "markdown",
   "id": "79fe056b-0e72-4d77-b4b1-846a1cbf0d7e",
   "metadata": {},
   "source": [
    "### Explanation:\n",
    "\n",
    "* Define the Vowels: vowels is a string containing all the vowels (both lowercase and uppercase).\n",
    "\n",
    "* Filter Function: is_not_vowel(char) is a function that returns True if the character char is not a vowel.\n",
    "\n",
    "* Using filter(): filter(is_not_vowel, s) applies the is_not_vowel function to each character in the string s. It returns an iterator that contains only the characters for which is_not_vowel returns True.\n",
    "\n",
    "* Join Characters: ''.join(filtered_characters) joins the filtered characters back into a single string."
   ]
  },
  {
   "cell_type": "markdown",
   "id": "e312a426-4bcd-4be8-a0e6-809bf0770314",
   "metadata": {},
   "source": [
    "This output shows the original string with all vowels removed."
   ]
  },
  {
   "cell_type": "code",
   "execution_count": null,
   "id": "a17bd843-e7cb-4831-b7c3-c5a1da3a2257",
   "metadata": {},
   "outputs": [],
   "source": []
  }
 ],
 "metadata": {
  "kernelspec": {
   "display_name": "Python 3 (ipykernel)",
   "language": "python",
   "name": "python3"
  },
  "language_info": {
   "codemirror_mode": {
    "name": "ipython",
    "version": 3
   },
   "file_extension": ".py",
   "mimetype": "text/x-python",
   "name": "python",
   "nbconvert_exporter": "python",
   "pygments_lexer": "ipython3",
   "version": "3.10.8"
  }
 },
 "nbformat": 4,
 "nbformat_minor": 5
}
